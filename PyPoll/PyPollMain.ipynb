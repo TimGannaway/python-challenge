{
 "cells": [
  {
   "cell_type": "code",
   "execution_count": 54,
   "id": "43d3d14b-7d2a-43dc-bdf1-ac8cbade88c2",
   "metadata": {},
   "outputs": [],
   "source": [
    "import csv\n",
    "rowOut0head = \"Election Results\"\n",
    "rowOut1dash = \"----------------------------\"\n",
    "rowOut2totVotes = \"Total Votes: \"\n",
    "candidateLIST = []\n",
    "winnername = \"\"\n",
    "voteCTtot = 0\n",
    "voteCT = 0\n",
    "recentCandidate = \"\"\n",
    "priorWinnerScore = 0.0\n",
    "z = 0\n",
    "\n",
    "def take3rd(elem):\n",
    "    return elem[2]"
   ]
  },
  {
   "cell_type": "code",
   "execution_count": 55,
   "id": "7d2aba15-3b25-4663-9227-7bad2eca51ff",
   "metadata": {},
   "outputs": [
    {
     "name": "stdout",
     "output_type": "stream",
     "text": [
      "369712\n",
      "['Ballot ID', 'County', 'Candidate']\n",
      "['1323913', 'Jefferson', 'Charles Casper Stockham']\n",
      "\n",
      "['1005842', 'Jefferson', 'Charles Casper Stockham']\n",
      "['1880345', 'Jefferson', 'Charles Casper Stockham']\n",
      "['1600337', 'Jefferson', 'Charles Casper Stockham']\n",
      "['1835994', 'Jefferson', 'Charles Casper Stockham']\n",
      "['1772756', 'Jefferson', 'Charles Casper Stockham']\n",
      "['1920023', 'Jefferson', 'Charles Casper Stockham']\n",
      "['1040408', 'Jefferson', 'Charles Casper Stockham']\n",
      "Charles Casper Stockham\n",
      "Diana DeGette\n",
      "this is the way\n",
      "Raymon Anthony Doane\n",
      "AltCount 369712\n",
      "----------------------------\n",
      "Election Results\n",
      "----------------------------\n",
      "Total Votes: 369711\n",
      "----------------------------\n",
      "Charles Casper Stockham (23.05%) 85214\n",
      "Diana DeGette (96.86%) 358106\n",
      "Raymon Anthony Doane (100.0%) 369710\n",
      "----------------------------\n",
      "Winner: Raymon Anthony Doane\n"
     ]
    }
   ],
   "source": [
    "with open('election_data.csv', encoding='utf-8') as f:\n",
    "    reader = csv.reader(f)\n",
    "    data = list(reader)\n",
    "\n",
    "for c in data:\n",
    "    voteCTtot += 1\n",
    "list_len = len(data)\n",
    "print(list_len)\n",
    "    \n",
    "voteCTtot -= 1\n",
    "    \n",
    "data.sort(key=take3rd)\n",
    "    \n",
    "for y in data:\n",
    "    z += 1\n",
    "    if y[0] == 'Ballot ID' or y[0] == '':\n",
    "        VoteCT = 0\n",
    "        continue\n",
    "    voteCT += 1\n",
    "    # add any non-zero-vote to candidate result list if candidate name changes\n",
    "    if y[2] != recentCandidate:\n",
    "        print(recentCandidate)   # ##### TEST TEST TEST TEST\n",
    "        if recentCandidate != \"\" :\n",
    "            candidateLIST.append([recentCandidate, '('+str(round(voteCT/voteCTtot*100.0,2))+'%)', str(voteCT) ])\n",
    "            if voteCT > priorWinnerScore:\n",
    "                priorWinnerScore = voteCT\n",
    "                winnername = y[2]\n",
    "        recentCandidate = y[2]\n",
    "        VoteCT = 0\n",
    "    elif  z == list_len-1:\n",
    "        print(y[2])   # ##### TEST TEST TEST TEST\n",
    "        if recentCandidate != \"\" :\n",
    "            candidateLIST.append([y[2], '('+str(round(voteCT/voteCTtot*100.0,2))+'%)', str(voteCT) ])\n",
    "            if voteCT > priorWinnerScore:\n",
    "                priorWinnerScore = voteCT\n",
    "                winnername = y[2]\n",
    "\n",
    "rowOut2totVotes = rowOut2totVotes + str(voteCTtot)\n",
    "    \n",
    "print(rowOut1dash)\n",
    "print(rowOut0head)\n",
    "print(rowOut1dash)\n",
    "print(rowOut2totVotes)\n",
    "print(rowOut1dash)\n",
    "for x in candidateLIST:\n",
    "    print(*x)\n",
    "print(rowOut1dash)\n",
    "print('Winner: ' + winnername)\n",
    "\n",
    "    "
   ]
  },
  {
   "cell_type": "code",
   "execution_count": 13,
   "id": "2e077a9a-c4b4-4496-afa6-1a8e8ecda822",
   "metadata": {},
   "outputs": [],
   "source": [
    "with open('results.txt', 'w', encoding='utf-8') as myfileOUT:\n",
    "    myfileOUT.write(rowOut0head + \"\\n\")\n",
    "    myfileOUT.write(rowOut1dash + \"\\n\")\n",
    "    myfileOUT.write(rowOut2totVotes + \"\\n\")\n",
    "    myfileOUT.write(rowOut1dash + \"\\n\")\n",
    "    \n",
    "    for item in candidateLIST:\n",
    "        myfileOUT.write(\"{}\\n\".format(item))\n",
    " \n",
    "    myfileOUT.write(rowOut1dash + \"\\n\")\n",
    "    myfileOUT.write('Winner: ' + winnername + \"\\n\")"
   ]
  },
  {
   "cell_type": "code",
   "execution_count": 57,
   "id": "342287c0-5f03-499e-aabf-4ccb0d723646",
   "metadata": {},
   "outputs": [],
   "source": []
  },
  {
   "cell_type": "code",
   "execution_count": null,
   "id": "716733cd-4f4a-454f-87e9-833581347604",
   "metadata": {},
   "outputs": [],
   "source": []
  }
 ],
 "metadata": {
  "kernelspec": {
   "display_name": "Python 3 (ipykernel)",
   "language": "python",
   "name": "python3"
  },
  "language_info": {
   "codemirror_mode": {
    "name": "ipython",
    "version": 3
   },
   "file_extension": ".py",
   "mimetype": "text/x-python",
   "name": "python",
   "nbconvert_exporter": "python",
   "pygments_lexer": "ipython3",
   "version": "3.9.7"
  }
 },
 "nbformat": 4,
 "nbformat_minor": 5
}
