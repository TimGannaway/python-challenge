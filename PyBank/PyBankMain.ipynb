{
 "cells": [
  {
   "cell_type": "code",
   "execution_count": 55,
   "id": "43d3d14b-7d2a-43dc-bdf1-ac8cbade88c2",
   "metadata": {},
   "outputs": [],
   "source": [
    "import csv\n",
    "rowOut0head = \"Financial Analysis\"\n",
    "rowOut1dash = \"----------------------------\"\n",
    "rowOut2totMon = \"Total Months: \"\n",
    "rowOut3tot = \"Total: \"\n",
    "rowOut4AvgChg = \"Average Change: \"\n",
    "rowOut5bigInc = \"Greatest Increase in Profits: \"\n",
    "rowOut6bigDec = \"Greatest Decrease in Profits: \"\n",
    "rowCTR = 0\n",
    "rowSUM = 0.0\n",
    "priorVAL = 0.0\n",
    "changeSUM = 0.0\n",
    "deltaMaxIncrease = 0.0\n",
    "deltaMaxDecrease = 0.0"
   ]
  },
  {
   "cell_type": "code",
   "execution_count": 56,
   "id": "2e077a9a-c4b4-4496-afa6-1a8e8ecda822",
   "metadata": {},
   "outputs": [
    {
     "name": "stdout",
     "output_type": "stream",
     "text": [
      "<_csv.reader object at 0x0000014D660D8B80>\n",
      "CSV Header: ['Date', 'Profit/Losses']\n",
      "Financial Analysis\n",
      "----------------------------\n",
      "Total Months: 86\n",
      "Total: $22,564,198.00\n",
      "Average Change: $262,374.40\n",
      "Greatest Increase in Profits: $1,141,840.00\n",
      "Greatest Decrease in Profits: $898,241.00\n"
     ]
    }
   ],
   "source": [
    "with open('budget_data.csv', encoding='utf-8') as myfile:\n",
    "    reader = csv.reader(myfile, delimiter=',')\n",
    "    print(reader)\n",
    "    csv_header = next(reader)\n",
    "    print(f\"CSV Header: {csv_header}\")\n",
    "    for row in reader:\n",
    "        rowCTR += 1\n",
    "        rowSUM += float(row[1])\n",
    "        changeSUM += float(row[1]) - priorVAL\n",
    "        if float(row[1]) - priorVAL > deltaMaxIncrease:\n",
    "            deltaMaxIncrease = float(row[1]) - priorVAL\n",
    "        if priorVAL - float(row[1]) > deltaMaxDecrease:\n",
    "            deltaMaxDecrease = float(row[1]) - priorVAL      \n",
    "            \n",
    "        priorVal = float(row[1])\n",
    "        \n",
    "rowOut2totMon = rowOut2totMon + str(rowCTR)\n",
    "rowOut3tot = rowOut3tot + \"${:,.2f}\".format(rowSUM)\n",
    "rowOut4AvgChg = rowOut4AvgChg + \"${:,.2f}\".format(changeSUM/rowCTR)\n",
    "rowOut5bigInc = rowOut5bigInc + \"${:,.2f}\".format(deltaMaxIncrease)\n",
    "rowOut6bigDec = rowOut6bigDec + \"${:,.2f}\".format(deltaMaxDecrease)\n",
    "\n",
    "print(rowOut0head)\n",
    "print(rowOut1dash)\n",
    "print(rowOut2totMon)\n",
    "print(rowOut3tot)\n",
    "print(rowOut4AvgChg)\n",
    "print(rowOut5bigInc)\n",
    "print(rowOut6bigDec)\n"
   ]
  },
  {
   "cell_type": "code",
   "execution_count": 57,
   "id": "342287c0-5f03-499e-aabf-4ccb0d723646",
   "metadata": {},
   "outputs": [],
   "source": [
    "with open('results.txt', 'w', encoding='utf-8') as myfileOUT:\n",
    "    myfileOUT.write(rowOut0head + \"\\n\")\n",
    "    myfileOUT.write(rowOut1dash + \"\\n\")\n",
    "    myfileOUT.write(rowOut2totMon + \"\\n\")\n",
    "    myfileOUT.write(rowOut3tot + \"\\n\")\n",
    "    myfileOUT.write(rowOut4AvgChg + \"\\n\")\n",
    "    myfileOUT.write(rowOut5bigInc + \"\\n\")\n",
    "    myfileOUT.write(rowOut6bigDec + \"\\n\")"
   ]
  },
  {
   "cell_type": "code",
   "execution_count": null,
   "id": "716733cd-4f4a-454f-87e9-833581347604",
   "metadata": {},
   "outputs": [],
   "source": []
  }
 ],
 "metadata": {
  "kernelspec": {
   "display_name": "Python 3 (ipykernel)",
   "language": "python",
   "name": "python3"
  },
  "language_info": {
   "codemirror_mode": {
    "name": "ipython",
    "version": 3
   },
   "file_extension": ".py",
   "mimetype": "text/x-python",
   "name": "python",
   "nbconvert_exporter": "python",
   "pygments_lexer": "ipython3",
   "version": "3.9.7"
  }
 },
 "nbformat": 4,
 "nbformat_minor": 5
}
